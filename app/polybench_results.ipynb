{
 "cells": [
  {
   "cell_type": "code",
   "execution_count": 22,
   "metadata": {},
   "outputs": [],
   "source": [
    "import numpy as np\n",
    "import matplotlib.pyplot as plt\n",
    "from scipy import stats\n",
    "\n",
    "import warnings\n",
    "warnings.filterwarnings('ignore')"
   ]
  },
  {
   "cell_type": "code",
   "execution_count": 35,
   "metadata": {},
   "outputs": [],
   "source": [
    "def var_name(variable):\n",
    "    globals_dict = globals()\n",
    "\n",
    "    return [\n",
    "        var_name for var_name in globals_dict\n",
    "        if globals_dict[var_name] is variable\n",
    "    ][0]"
   ]
  },
  {
   "cell_type": "markdown",
   "metadata": {},
   "source": [
    "## Correlation"
   ]
  },
  {
   "cell_type": "code",
   "execution_count": 20,
   "metadata": {},
   "outputs": [],
   "source": [
    "# Read data from files\n",
    "max_cycles = 32-5+2+2  # bitwidth-(exp+reg)+round_bits+(decode+encode)\n",
    "iters = len(open('../rtl/32_bit/sim/correlation/input_MINI.txt', 'r').readlines())\n",
    "\n",
    "baseline = np.array([max_cycles] * iters)\n",
    "baseline_stop = np.loadtxt(\n",
    "    '../rtl/32_bit/sim/correlation/opt/output_MINI.txt', dtype=int)\n",
    "proposed = np.loadtxt(\n",
    "    '../rtl/32_bit_opt/sim/correlation/naive/output_MINI.txt', dtype=int)\n",
    "proposed_stop = np.loadtxt(\n",
    "    '../rtl/32_bit_opt/sim/correlation/opt/output_MINI.txt', dtype=int)\n",
    "\n",
    "print(stats.describe(baseline))\n",
    "print(stats.describe(proposed))\n",
    "print(stats.describe(baseline_stop))\n",
    "print(stats.describe(proposed_stop))"
   ]
  },
  {
   "cell_type": "code",
   "execution_count": 48,
   "metadata": {},
   "outputs": [
    {
     "data": {
      "text/plain": [
       "array([2, 2, 2, ..., 1, 1, 1])"
      ]
     },
     "execution_count": 48,
     "metadata": {},
     "output_type": "execute_result"
    }
   ],
   "source": [
    "reduction"
   ]
  },
  {
   "cell_type": "code",
   "execution_count": 63,
   "metadata": {},
   "outputs": [
    {
     "name": "stdout",
     "output_type": "stream",
     "text": [
      "**** MINI ****\n",
      "Design         :      min,      max,           total\n",
      "baseline       :       27,       27,           24948\n",
      "baseline_stop  :       29,       29,           26796\n",
      "proposed       :       28,       29,           26789\n",
      "proposed_stop  :       28,       29,           26789\n",
      "reduction      :        1,        0,      7 (-0.03%)\n",
      "\n",
      "**** SMALL ****\n",
      "Design         :      min,      max,           total\n",
      "baseline       :       27,       27,          218160\n",
      "baseline_stop  :        3,       29,           26320\n",
      "proposed       :       28,       29,          234240\n",
      "proposed_stop  :        3,       28,           26240\n",
      "reduction      :        0,        1,     80 (-0.30%)\n",
      "\n",
      "**** MEDIUM ****\n",
      "Design         :      min,      max,           total\n",
      "baseline       :       27,       27,         1691280\n",
      "baseline_stop  :       29,       29,         1816560\n",
      "proposed       :       28,       28,         1753920\n",
      "proposed_stop  :       28,       28,         1753920\n",
      "reduction      :        1,        1,  62640 (-3.45%)\n",
      "\n",
      "**** LARGE ****\n",
      "Design         :      min,      max,           total\n",
      "baseline       :       27,       27,        45392400\n",
      "baseline_stop  :       29,       29,        48754800\n",
      "proposed       :       27,       28,        47072400\n",
      "proposed_stop  :       27,       28,        47072400\n",
      "reduction      :        2,        1, 1682400 (-3.45%)\n",
      "\n"
     ]
    }
   ],
   "source": [
    "max_cycles = 32-5+2+2  # bitwidth-(exp+reg)+round_bits+(decode+encode)\n",
    "APP = 'correlation'\n",
    "\n",
    "for size in ['MINI', 'SMALL', 'MEDIUM', 'LARGE']:\n",
    "    print('****', size, '****')\n",
    "\n",
    "    iters = len(open(\n",
    "        '../rtl/32_bit/sim/'+APP+'/input_' + size+'.txt', 'r').readlines())\n",
    "    # Read data from files\n",
    "    baseline = np.array([max_cycles] * iters)\n",
    "    baseline_stop = np.loadtxt(\n",
    "        '../rtl/32_bit/sim/'+APP+'/opt/output_'+size+'.txt', dtype=int)\n",
    "    proposed = np.loadtxt(\n",
    "        '../rtl/32_bit_opt/sim/'+APP+'/naive/output_'+size+'.txt', dtype=int)\n",
    "    proposed_stop = np.loadtxt(\n",
    "        '../rtl/32_bit_opt/sim/'+APP+'/opt/output_'+size+'.txt', dtype=int)\n",
    "    # Display stats\n",
    "    # print(stats.describe(baseline))\n",
    "    # print(stats.describe(proposed))\n",
    "    # print(stats.describe(baseline_stop))\n",
    "    # print(stats.describe(proposed_stop))\n",
    "    # print()\n",
    "    print(f'{\"Design\": <15}: {\"min\": >8}, {\"max\": >8}, {\"total\": >15}')\n",
    "    print(f'{var_name(baseline): <15}: {np.min(baseline): >8}, {np.max(baseline): >8}, {np.sum(baseline): >15}')\n",
    "    print(f'{var_name(baseline_stop): <15}: {np.min(baseline_stop): >8}, {np.max(baseline_stop): >8}, {np.sum(baseline_stop): >15}')\n",
    "    print(f'{var_name(proposed): <15}: {np.min(proposed): >8}, {np.max(proposed): >8}, {np.sum(proposed): >15}')\n",
    "    print(f'{var_name(proposed_stop): <15}: {np.min(proposed_stop): >8}, {np.max(proposed_stop): >8}, {np.sum(proposed_stop): >15}')\n",
    "    print(f'{\"reduction\": <15}: {np.min(baseline_stop)-np.min(proposed_stop): >8}, {np.max(baseline_stop)-np.max(proposed_stop): >8}, {str(np.sum(baseline_stop)-np.sum(proposed_stop)) + \" ({:.2f}%)\".format(100*(np.sum(proposed_stop)-np.sum(baseline_stop))/np.sum(baseline_stop)) : >15}')\n",
    "    print()"
   ]
  },
  {
   "cell_type": "code",
   "execution_count": 65,
   "metadata": {},
   "outputs": [
    {
     "name": "stdout",
     "output_type": "stream",
     "text": [
      "**** MINI ****\n",
      "Design         :      min,      max,           total\n",
      "baseline       :       31,       31,             930\n",
      "baseline_stop  :       31,       31,             930\n",
      "proposed       :       25,       30,             847\n",
      "proposed_stop  :       25,       30,             847\n",
      "reduction      :        6,        1,     83 (-8.92%)\n",
      "\n",
      "**** SMALL ****\n",
      "Design         :      min,      max,           total\n",
      "baseline       :       31,       31,            2480\n",
      "baseline_stop  :       31,       31,            2480\n",
      "proposed       :       26,       30,            2292\n",
      "proposed_stop  :       26,       30,            2292\n",
      "reduction      :        5,        1,    188 (-7.58%)\n",
      "\n",
      "**** MEDIUM ****\n",
      "Design         :      min,      max,           total\n",
      "baseline       :       31,       31,            7440\n",
      "baseline_stop  :       31,       31,            7440\n",
      "proposed       :       26,       30,            6803\n",
      "proposed_stop  :       26,       30,            6803\n",
      "reduction      :        5,        1,    637 (-8.56%)\n",
      "\n",
      "**** LARGE ****\n",
      "Design         :      min,      max,           total\n",
      "baseline       :       31,       31,           37200\n",
      "baseline_stop  :       14,       31,           37183\n",
      "proposed       :       26,       30,           34306\n",
      "proposed_stop  :       14,       30,           34291\n",
      "reduction      :        0,        1,   2892 (-7.78%)\n",
      "\n"
     ]
    }
   ],
   "source": [
    "max_cycles = 32-5+2+2  # bitwidth-(exp+reg)+round_bits+(decode+encode)\n",
    "APP = 'gramschmidt'\n",
    "\n",
    "for size in ['MINI', 'SMALL', 'MEDIUM', 'LARGE']:\n",
    "    print('****', size, '****')\n",
    "\n",
    "    iters = len(open(\n",
    "        '../rtl/32_bit/sim/'+APP+'/input_' + size+'.txt', 'r').readlines())\n",
    "    # Read data from files\n",
    "    baseline = np.array([max_cycles] * iters)\n",
    "    baseline_stop = np.loadtxt(\n",
    "        '../rtl/32_bit/sim/'+APP+'/opt/output_'+size+'.txt', dtype=int)\n",
    "    proposed = np.loadtxt(\n",
    "        '../rtl/32_bit_opt/sim/'+APP+'/naive/output_'+size+'.txt', dtype=int)\n",
    "    proposed_stop = np.loadtxt(\n",
    "        '../rtl/32_bit_opt/sim/'+APP+'/opt/output_'+size+'.txt', dtype=int)\n",
    "    # Display stats\n",
    "    # print(stats.describe(baseline))\n",
    "    # print(stats.describe(proposed))\n",
    "    # print(stats.describe(baseline_stop))\n",
    "    # print(stats.describe(proposed_stop))\n",
    "    # print()\n",
    "    print(f'{\"Design\": <15}: {\"min\": >8}, {\"max\": >8}, {\"total\": >15}')\n",
    "    print(f'{var_name(baseline): <15}: {np.min(baseline): >8}, {np.max(baseline): >8}, {np.sum(baseline): >15}')\n",
    "    print(f'{var_name(baseline_stop): <15}: {np.min(baseline_stop): >8}, {np.max(baseline_stop): >8}, {np.sum(baseline_stop): >15}')\n",
    "    print(f'{var_name(proposed): <15}: {np.min(proposed): >8}, {np.max(proposed): >8}, {np.sum(proposed): >15}')\n",
    "    print(f'{var_name(proposed_stop): <15}: {np.min(proposed_stop): >8}, {np.max(proposed_stop): >8}, {np.sum(proposed_stop): >15}')\n",
    "    print(f'{\"reduction\": <15}: {np.min(baseline_stop)-np.min(proposed_stop): >8}, {np.max(baseline_stop)-np.max(proposed_stop): >8}, {str(np.sum(baseline_stop)-np.sum(proposed_stop)) + \" ({:.2f}%)\".format(100*(np.sum(proposed_stop)-np.sum(baseline_stop))/np.sum(baseline_stop)) : >15}')\n",
    "    print()"
   ]
  },
  {
   "cell_type": "code",
   "execution_count": 68,
   "metadata": {},
   "outputs": [
    {
     "data": {
      "text/plain": [
       "37200"
      ]
     },
     "execution_count": 68,
     "metadata": {},
     "output_type": "execute_result"
    }
   ],
   "source": [
    "baseline.sum()"
   ]
  },
  {
   "cell_type": "code",
   "execution_count": 91,
   "metadata": {},
   "outputs": [
    {
     "name": "stdout",
     "output_type": "stream",
     "text": [
      "Design         ,                          MINI,                         SMALL,                        MEDIUM,                         LARGE,\n",
      "# operations   ,                           924,                          8080,                         62640,                       1681200,\n",
      "baseline       ,               (31; 31; 28644),              (31; 31; 250480),             (31; 31; 1941840),            (31; 31; 52117200),\n",
      "proposed       ,               (30; 31; 28637),              (30; 31; 250400),             (30; 30; 1879200),            (29; 30; 50434800),\n",
      "reduction      ,          (-1; 0; -7 (-0.02%)),         (-1; 0; -80 (-0.03%)),     (-1; -1; -62640 (-3.23%)),   (-2; -1; -1682400 (-3.23%)),\n",
      "baseline_stop  ,               (31; 31; 28644),                (5; 31; 42480),             (31; 31; 1941840),            (31; 31; 52117200),\n",
      "proposed_stop  ,               (30; 31; 28637),                (5; 30; 42400),             (30; 30; 1879200),            (29; 30; 50434800),\n",
      "reduction_stop ,          (-1; 0; -7 (-0.02%)),         (0; -1; -80 (-0.19%)),     (-1; -1; -62640 (-3.23%)),   (-2; -1; -1682400 (-3.23%)),\n"
     ]
    }
   ],
   "source": [
    "max_cycles = 32-5+2+2  # bitwidth-(exp+reg)+round_bits+(decode+encode)\n",
    "APP = 'correlation'\n",
    "\n",
    "# Table header\n",
    "print(f'{\"Design\": <15},{\"MINI\": >30},{\"SMALL\": >30},{\"MEDIUM\": >30},{\"LARGE\": >30},')\n",
    "print(f'{\"# operations\": <15}', end=',')\n",
    "for size in ['MINI', 'SMALL', 'MEDIUM', 'LARGE']:\n",
    "    iters = len(open(\n",
    "        '../rtl/32_bit/sim/'+APP+'/input_' + size+'.txt', 'r').readlines())\n",
    "    print(f'{iters: >30}', end=',')\n",
    "print()\n",
    "\n",
    "\n",
    "# Table content\n",
    "for design in ['baseline', 'proposed', 'reduction', 'baseline_stop', 'proposed_stop', 'reduction_stop']:\n",
    "    # for design in ['baseline', 'proposed', 'baseline_stop', 'proposed_stop',]:\n",
    "    print(f'{design: <15}', end=',')\n",
    "\n",
    "    for size in ['MINI', 'SMALL', 'MEDIUM', 'LARGE']:\n",
    "        iters = len(open(\n",
    "            '../rtl/32_bit/sim/'+APP+'/input_' + size+'.txt', 'r').readlines())\n",
    "        # Read data from files\n",
    "        if design == 'baseline':\n",
    "            data = np.array([max_cycles] * iters)\n",
    "        elif design == 'baseline_stop':\n",
    "            data = np.loadtxt('../rtl/32_bit/sim/'+APP +\n",
    "                              '/opt/output_'+size+'.txt', dtype=int)\n",
    "        elif design == 'proposed':\n",
    "            data = np.loadtxt('../rtl/32_bit_opt/sim/'+APP +\n",
    "                              '/naive/output_'+size+'.txt', dtype=int)\n",
    "        elif design == 'proposed_stop':\n",
    "            data = np.loadtxt('../rtl/32_bit_opt/sim/'+APP +\n",
    "                              '/opt/output_'+size+'.txt', dtype=int)\n",
    "\n",
    "        if design == 'reduction':\n",
    "            baseline = np.array([max_cycles] * iters)\n",
    "            proposed = np.loadtxt('../rtl/32_bit_opt/sim/'+APP +\n",
    "                                  '/naive/output_'+size+'.txt', dtype=int)\n",
    "            v_min = np.min(proposed)-np.min(baseline)\n",
    "            v_max = np.max(proposed)-np.max(baseline)\n",
    "            v_sum = np.sum(proposed)-np.sum(baseline)\n",
    "            percentage = 100*(np.sum(proposed) -\n",
    "                              np.sum(baseline))/np.sum(baseline)\n",
    "            print(\n",
    "                f'{\"({:}; {:}; {:} ({:.2f}%))\".format(v_min,v_max,v_sum, percentage): >30}', end=',')\n",
    "        elif design == 'reduction_stop':\n",
    "            baseline = np.loadtxt('../rtl/32_bit/sim/'+APP +\n",
    "                                  '/opt/output_'+size+'.txt', dtype=int)\n",
    "            proposed = np.loadtxt('../rtl/32_bit_opt/sim/'+APP +\n",
    "                                  '/opt/output_'+size+'.txt', dtype=int)\n",
    "            v_min = np.min(proposed)-np.min(baseline)\n",
    "            v_max = np.max(proposed)-np.max(baseline)\n",
    "            v_sum = np.sum(proposed)-np.sum(baseline)\n",
    "            percentage = 100*(np.sum(proposed) -\n",
    "                              np.sum(baseline))/np.sum(baseline)\n",
    "            print(\n",
    "                f'{\"({:}; {:}; {:} ({:.2f}%))\".format(v_min,v_max,v_sum, percentage): >30}', end=',')\n",
    "        else:\n",
    "            # Display stats\n",
    "            print(\n",
    "                f'{\"({:}; {:}; {:})\".format(data.min(),data.max(),data.sum()): >30}', end=',')\n",
    "    print()"
   ]
  },
  {
   "cell_type": "code",
   "execution_count": 92,
   "metadata": {},
   "outputs": [
    {
     "name": "stdout",
     "output_type": "stream",
     "text": [
      "Design         ,                          MINI,                         SMALL,                        MEDIUM,                         LARGE,\n",
      "# operations   ,                            30,                            80,                           240,                          1200,\n",
      "baseline       ,                 (31; 31; 930),                (31; 31; 2480),                (31; 31; 7440),               (31; 31; 37200),\n",
      "proposed       ,                 (25; 30; 847),                (26; 30; 2292),                (26; 30; 6803),               (26; 30; 34306),\n",
      "reduction      ,        (-6; -1; -83 (-8.92%)),       (-5; -1; -188 (-7.58%)),       (-5; -1; -637 (-8.56%)),      (-5; -1; -2894 (-7.78%)),\n",
      "baseline_stop  ,                 (31; 31; 930),                (31; 31; 2480),                (31; 31; 7440),               (14; 31; 37183),\n",
      "proposed_stop  ,                 (25; 30; 847),                (26; 30; 2292),                (26; 30; 6803),               (14; 30; 34291),\n",
      "reduction_stop ,        (-6; -1; -83 (-8.92%)),       (-5; -1; -188 (-7.58%)),       (-5; -1; -637 (-8.56%)),       (0; -1; -2892 (-7.78%)),\n"
     ]
    }
   ],
   "source": [
    "max_cycles = 32-5+2+2  # bitwidth-(exp+reg)+round_bits+(decode+encode)\n",
    "APP = 'gramschmidt'\n",
    "\n",
    "# Table header\n",
    "print(f'{\"Design\": <15},{\"MINI\": >30},{\"SMALL\": >30},{\"MEDIUM\": >30},{\"LARGE\": >30},')\n",
    "print(f'{\"# operations\": <15}', end=',')\n",
    "for size in ['MINI', 'SMALL', 'MEDIUM', 'LARGE']:\n",
    "    iters = len(open(\n",
    "        '../rtl/32_bit/sim/'+APP+'/input_' + size+'.txt', 'r').readlines())\n",
    "    print(f'{iters: >30}', end=',')\n",
    "print()\n",
    "\n",
    "\n",
    "# Table content\n",
    "for design in ['baseline', 'proposed', 'reduction', 'baseline_stop', 'proposed_stop', 'reduction_stop']:\n",
    "    # for design in ['baseline', 'proposed', 'baseline_stop', 'proposed_stop',]:\n",
    "    print(f'{design: <15}', end=',')\n",
    "\n",
    "    for size in ['MINI', 'SMALL', 'MEDIUM', 'LARGE']:\n",
    "        iters = len(open(\n",
    "            '../rtl/32_bit/sim/'+APP+'/input_' + size+'.txt', 'r').readlines())\n",
    "        # Read data from files\n",
    "        if design == 'baseline':\n",
    "            data = np.array([max_cycles] * iters)\n",
    "        elif design == 'baseline_stop':\n",
    "            data = np.loadtxt('../rtl/32_bit/sim/'+APP +\n",
    "                              '/opt/output_'+size+'.txt', dtype=int)\n",
    "        elif design == 'proposed':\n",
    "            data = np.loadtxt('../rtl/32_bit_opt/sim/'+APP +\n",
    "                              '/naive/output_'+size+'.txt', dtype=int)\n",
    "        elif design == 'proposed_stop':\n",
    "            data = np.loadtxt('../rtl/32_bit_opt/sim/'+APP +\n",
    "                              '/opt/output_'+size+'.txt', dtype=int)\n",
    "\n",
    "        if design == 'reduction':\n",
    "            baseline = np.array([max_cycles] * iters)\n",
    "            proposed = np.loadtxt('../rtl/32_bit_opt/sim/'+APP +\n",
    "                                  '/naive/output_'+size+'.txt', dtype=int)\n",
    "            v_min = np.min(proposed)-np.min(baseline)\n",
    "            v_max = np.max(proposed)-np.max(baseline)\n",
    "            v_sum = np.sum(proposed)-np.sum(baseline)\n",
    "            percentage = 100*(np.sum(proposed) -\n",
    "                              np.sum(baseline))/np.sum(baseline)\n",
    "            print(\n",
    "                f'{\"({:}; {:}; {:} ({:.2f}%))\".format(v_min,v_max,v_sum, percentage): >30}', end=',')\n",
    "        elif design == 'reduction_stop':\n",
    "            baseline = np.loadtxt('../rtl/32_bit/sim/'+APP +\n",
    "                                  '/opt/output_'+size+'.txt', dtype=int)\n",
    "            proposed = np.loadtxt('../rtl/32_bit_opt/sim/'+APP +\n",
    "                                  '/opt/output_'+size+'.txt', dtype=int)\n",
    "            v_min = np.min(proposed)-np.min(baseline)\n",
    "            v_max = np.max(proposed)-np.max(baseline)\n",
    "            v_sum = np.sum(proposed)-np.sum(baseline)\n",
    "            percentage = 100*(np.sum(proposed) -\n",
    "                              np.sum(baseline))/np.sum(baseline)\n",
    "            print(\n",
    "                f'{\"({:}; {:}; {:} ({:.2f}%))\".format(v_min,v_max,v_sum, percentage): >30}', end=',')\n",
    "        else:\n",
    "            # Display stats\n",
    "            print(\n",
    "                f'{\"({:}; {:}; {:})\".format(data.min(),data.max(),data.sum()): >30}', end=',')\n",
    "    print()"
   ]
  }
 ],
 "metadata": {
  "kernelspec": {
   "display_name": "venv",
   "language": "python",
   "name": "python3"
  },
  "language_info": {
   "codemirror_mode": {
    "name": "ipython",
    "version": 3
   },
   "file_extension": ".py",
   "mimetype": "text/x-python",
   "name": "python",
   "nbconvert_exporter": "python",
   "pygments_lexer": "ipython3",
   "version": "3.8.10"
  }
 },
 "nbformat": 4,
 "nbformat_minor": 2
}
